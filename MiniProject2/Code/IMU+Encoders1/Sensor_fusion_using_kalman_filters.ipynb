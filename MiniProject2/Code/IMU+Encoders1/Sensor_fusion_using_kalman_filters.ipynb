{
  "nbformat": 4,
  "nbformat_minor": 0,
  "metadata": {
    "colab": {
      "provenance": [],
      "authorship_tag": "ABX9TyPbhMtSxymQyU55403q17x6",
      "include_colab_link": true
    },
    "kernelspec": {
      "name": "python3",
      "display_name": "Python 3"
    },
    "language_info": {
      "name": "python"
    }
  },
  "cells": [
    {
      "cell_type": "markdown",
      "metadata": {
        "id": "view-in-github",
        "colab_type": "text"
      },
      "source": [
        "<a href=\"https://colab.research.google.com/github/aojedao/AdvancedMechatronics/blob/main/MiniProject2/Code/IMU%2BEncoders1/Sensor_fusion_using_kalman_filters.ipynb\" target=\"_parent\"><img src=\"https://colab.research.google.com/assets/colab-badge.svg\" alt=\"Open In Colab\"/></a>"
      ]
    },
    {
      "cell_type": "code",
      "execution_count": 1,
      "metadata": {
        "colab": {
          "base_uri": "https://localhost:8080/"
        },
        "id": "mfITREvYaQaD",
        "outputId": "c58fde4c-dbae-47ed-86d7-4a28f1e29104"
      },
      "outputs": [
        {
          "output_type": "stream",
          "name": "stdout",
          "text": [
            "Collecting filterpy\n",
            "  Downloading filterpy-1.4.5.zip (177 kB)\n",
            "\u001b[?25l     \u001b[90m━━━━━━━━━━━━━━━━━━━━━━━━━━━━━━━━━━━━━━━━\u001b[0m \u001b[32m0.0/178.0 kB\u001b[0m \u001b[31m?\u001b[0m eta \u001b[36m-:--:--\u001b[0m\r\u001b[2K     \u001b[90m━━━━━━━━━━━━━━━━━━━━━━━━━━━━━━━━━━━━━━━━\u001b[0m \u001b[32m178.0/178.0 kB\u001b[0m \u001b[31m6.2 MB/s\u001b[0m eta \u001b[36m0:00:00\u001b[0m\n",
            "\u001b[?25h  Preparing metadata (setup.py) ... \u001b[?25l\u001b[?25hdone\n",
            "Requirement already satisfied: numpy in /usr/local/lib/python3.11/dist-packages (2.0.2)\n",
            "Requirement already satisfied: matplotlib in /usr/local/lib/python3.11/dist-packages (3.10.0)\n",
            "Requirement already satisfied: scipy in /usr/local/lib/python3.11/dist-packages (from filterpy) (1.14.1)\n",
            "Requirement already satisfied: contourpy>=1.0.1 in /usr/local/lib/python3.11/dist-packages (from matplotlib) (1.3.1)\n",
            "Requirement already satisfied: cycler>=0.10 in /usr/local/lib/python3.11/dist-packages (from matplotlib) (0.12.1)\n",
            "Requirement already satisfied: fonttools>=4.22.0 in /usr/local/lib/python3.11/dist-packages (from matplotlib) (4.56.0)\n",
            "Requirement already satisfied: kiwisolver>=1.3.1 in /usr/local/lib/python3.11/dist-packages (from matplotlib) (1.4.8)\n",
            "Requirement already satisfied: packaging>=20.0 in /usr/local/lib/python3.11/dist-packages (from matplotlib) (24.2)\n",
            "Requirement already satisfied: pillow>=8 in /usr/local/lib/python3.11/dist-packages (from matplotlib) (11.1.0)\n",
            "Requirement already satisfied: pyparsing>=2.3.1 in /usr/local/lib/python3.11/dist-packages (from matplotlib) (3.2.3)\n",
            "Requirement already satisfied: python-dateutil>=2.7 in /usr/local/lib/python3.11/dist-packages (from matplotlib) (2.8.2)\n",
            "Requirement already satisfied: six>=1.5 in /usr/local/lib/python3.11/dist-packages (from python-dateutil>=2.7->matplotlib) (1.17.0)\n",
            "Building wheels for collected packages: filterpy\n",
            "  Building wheel for filterpy (setup.py) ... \u001b[?25l\u001b[?25hdone\n",
            "  Created wheel for filterpy: filename=filterpy-1.4.5-py3-none-any.whl size=110460 sha256=8533932962f8a628d98e366db1032ec191c4fd885739d4c80574e7a6c648d12e\n",
            "  Stored in directory: /root/.cache/pip/wheels/12/dc/3c/e12983eac132d00f82a20c6cbe7b42ce6e96190ef8fa2d15e1\n",
            "Successfully built filterpy\n",
            "Installing collected packages: filterpy\n",
            "Successfully installed filterpy-1.4.5\n"
          ]
        }
      ],
      "source": [
        "pip install filterpy numpy matplotlib"
      ]
    },
    {
      "cell_type": "code",
      "source": [
        "import numpy as np\n",
        "import matplotlib.pyplot as plt\n",
        "from filterpy.kalman import ExtendedKalmanFilter\n",
        "from filterpy.common import Q_discrete_white_noise\n"
      ],
      "metadata": {
        "id": "eqQ0MaUeaRyJ"
      },
      "execution_count": 2,
      "outputs": []
    },
    {
      "cell_type": "code",
      "source": [
        "WHEEL_RADIUS = 0.0325  # meters\n",
        "WHEEL_DISTANCE = 0.20  # meters\n",
        "TICKS_PER_REVOLUTION = 937  # encoder ticks per wheel revolution\n",
        "ENCODER_RESOLUTION = 2 * np.pi / TICKS_PER_REVOLUTION  # radians per tick\n"
      ],
      "metadata": {
        "id": "KgbuZy2faT1f"
      },
      "execution_count": 3,
      "outputs": []
    },
    {
      "cell_type": "code",
      "source": [
        "dt = 0.1  # time step in seconds\n",
        "total_time = 10  # total simulation time in seconds\n",
        "time_steps = int(total_time / dt)\n",
        "\n",
        "# Simulated true velocities\n",
        "linear_velocity = 0.1  # m/s\n",
        "angular_velocity = 0.05  # rad/s\n",
        "\n",
        "# Initialize arrays to store simulated data\n",
        "imu_data = []\n",
        "encoder_data = []\n",
        "\n",
        "for _ in range(time_steps):\n",
        "    # Simulate IMU gyroscope data (angular velocity around z-axis)\n",
        "    imu_gyro_z = angular_velocity + np.random.normal(0, 0.01)  # adding noise\n",
        "    imu_data.append(imu_gyro_z)\n",
        "\n",
        "    # Simulate encoder data\n",
        "    v_r = linear_velocity + (angular_velocity * WHEEL_DISTANCE / 2)\n",
        "    v_l = linear_velocity - (angular_velocity * WHEEL_DISTANCE / 2)\n",
        "\n",
        "    omega_r = v_r / WHEEL_RADIUS  # angular velocity of right wheel\n",
        "    omega_l = v_l / WHEEL_RADIUS  # angular velocity of left wheel\n",
        "\n",
        "    ticks_r = omega_r * dt / ENCODER_RESOLUTION\n",
        "    ticks_l = omega_l * dt / ENCODER_RESOLUTION\n",
        "\n",
        "    encoder_data.append((ticks_r, ticks_l))\n"
      ],
      "metadata": {
        "id": "2K94E7rlaXYi"
      },
      "execution_count": 4,
      "outputs": []
    },
    {
      "cell_type": "code",
      "source": [],
      "metadata": {
        "id": "EAyrflvjbSMA"
      },
      "execution_count": 6,
      "outputs": []
    },
    {
      "cell_type": "code",
      "source": [
        "def fx(x, dt):\n",
        "    \"\"\" State transition function for the EKF. \"\"\"\n",
        "    theta = x[2]\n",
        "    v = x[3]\n",
        "    w = x[4]\n",
        "    if np.abs(w) < 1e-5:\n",
        "        # Straight motion\n",
        "        dx = v * np.cos(theta) * dt\n",
        "        dy = v * np.sin(theta) * dt\n",
        "        dtheta = w * dt\n",
        "    else:\n",
        "        # Rotational motion\n",
        "        dx = (v/w) * (np.sin(theta + w*dt) - np.sin(theta))\n",
        "        dy = (v/w) * (-np.cos(theta + w*dt) + np.cos(theta))\n",
        "        dtheta = w * dt\n",
        "    return x + np.array([dx, dy, dtheta, 0, 0])\n",
        "\n",
        "def hx(x):\n",
        "    \"\"\" Measurement function. \"\"\"\n",
        "    return np.array([x[2], x[3], x[4]])  # returning theta, v, w\n",
        "# Define process noise variances for each state variable\n",
        "var_x = 0.01        # Variance for x position\n",
        "var_y = 0.01        # Variance for y position\n",
        "var_theta = 0.001   # Variance for orientation (theta)\n",
        "var_v = 0.1         # Variance for linear velocity\n",
        "var_w = 0.01        # Variance for angular velocity\n",
        "\n",
        "# Construct the diagonal covariance matrix\n",
        "\n",
        "ekf = ExtendedKalmanFilter(dim_x=5, dim_z=3)\n",
        "ekf.Q = np.diag([var_x, var_y, var_theta, var_v, var_w])\n",
        "ekf.x = np.array([0, 0, 0, 0, 0])  # initial state: x, y, theta, v, w\n",
        "ekf.F = np.eye(5)  # state transition matrix\n",
        "ekf.R = np.diag([0.1, 0.1, 0.1])  # measurement noise\n",
        "#ekf.Q = Q_discrete_white_noise(dim=5, dt=dt, var=0.1)  # process noise\n",
        "ekf.P *= 10  # covariance matrix\n"
      ],
      "metadata": {
        "id": "HrSlYBJUaalN"
      },
      "execution_count": 8,
      "outputs": []
    },
    {
      "cell_type": "code",
      "source": [
        "estimated_states = []\n",
        "\n",
        "for i in range(time_steps):\n",
        "    # Predict step\n",
        "    ekf.predict()\n",
        "\n",
        "    # Measurement update\n",
        "    imu_measurement = imu_data[i]\n",
        "    encoder_measurement = encoder_data[i]\n",
        "\n",
        "    # Convert encoder ticks to linear and angular velocities\n",
        "    d_right = encoder_measurement[0] * ENCODER_RESOLUTION * WHEEL_RADIUS\n",
        "    d_left = encoder_measurement[1] * ENCODER_RESOLUTION * WHEEL_RADIUS\n",
        "\n",
        "    v = (d_right + d_left) / 2.0 / dt\n",
        "    w = (d_right - d_left) / WHEEL_DISTANCE / dt\n",
        "\n",
        "    z = np.array([imu_measurement, v, w])\n",
        "\n",
        "    ekf.update(z, HJacobian=lambda x: np.eye(3, 5), Hx=hx)\n",
        "\n",
        "    estimated_states.append(ekf.x[:3])  # Store x, y, theta\n"
      ],
      "metadata": {
        "id": "KN_Q-SDPadJY"
      },
      "execution_count": 9,
      "outputs": []
    },
    {
      "cell_type": "code",
      "source": [
        "estimated_states = np.array(estimated_states)\n",
        "plt.plot(estimated_states[:, 0], estimated_states[:, 1], label='Estimated Path')\n",
        "plt.xlabel('X Position (m)')\n",
        "plt.ylabel('Y Position (m)')\n",
        "plt.title('Estimated Robot Trajectory')\n",
        "plt.legend()\n",
        "plt.grid()\n",
        "plt.axis('equal')\n",
        "plt.show()\n"
      ],
      "metadata": {
        "colab": {
          "base_uri": "https://localhost:8080/",
          "height": 472
        },
        "id": "Ia4EdCZZafFb",
        "outputId": "077749d0-bace-47af-956b-3ca18c26984c"
      },
      "execution_count": 10,
      "outputs": [
        {
          "output_type": "display_data",
          "data": {
            "text/plain": [
              "<Figure size 640x480 with 1 Axes>"
            ],
            "image/png": "[encoded data removed]"
          },
          "metadata": {}
        }
      ]
    }
  ]
}